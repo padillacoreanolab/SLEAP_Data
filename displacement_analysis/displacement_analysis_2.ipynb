{
  "cells": [
    {
      "cell_type": "code",
      "execution_count": null,
      "metadata": {},
      "outputs": [],
      "source": [
        "# !pip install h5py\n",
        "# !pip install matplotlib\n",
        "# !pip install seaborn\n",
        "# !pip install pandas\n",
        "# !pip install sklearn\n",
        "# !pip install numpy\n",
        "# !pip install scipy\n",
        "# !pip install sleap==1.2.6"
      ]
    },
    {
      "cell_type": "code",
      "execution_count": 5,
      "metadata": {},
      "outputs": [],
      "source": [
        "import h5py\n",
        "import numpy as np\n",
        "import sleap\n",
        "import seaborn as sns\n",
        "import matplotlib as mpl\n",
        "import matplotlib.pyplot as plt"
      ]
    },
    {
      "cell_type": "code",
      "execution_count": 2,
      "metadata": {},
      "outputs": [
        {
          "name": "stdout",
          "output_type": "stream",
          "text": [
            "[ds]  /edge_inds: (6, 2) | dtype = int64\n",
            "[ds]  /edge_names: (6, 2) | dtype = |S9\n",
            "[ds]  /instance_scores: (2, 54546) | dtype = float64\n",
            "[ds]  /node_names: (6,) | dtype = |S9\n",
            "[ds]  /point_scores: (2, 6, 54546) | dtype = float64\n",
            "[ds]  /track_names: (2,) | dtype = |S7\n",
            "[ds]  /track_occupancy: (54546, 2) | dtype = uint8\n",
            "[ds]  /tracking_scores: (2, 54546) | dtype = float64\n",
            "[ds]  /tracks: (2, 2, 6, 54546) | dtype = float64\n"
          ]
        }
      ],
      "source": [
        "path = \"displacement_analysis.h5\"\n",
        "\n",
        "def describe_hdf5(filename, attrs=True):\n",
        "    \"\"\"Utility to describe all items in an HDF5 file.\"\"\"\n",
        "    def desc(k, v):\n",
        "        if type(v) == h5py.Dataset:\n",
        "            print(f\"[ds]  {v.name}: {v.shape} | dtype = {v.dtype}\")\n",
        "            if attrs and len(v.attrs) > 0:\n",
        "                print(f\"      attrs = {dict(v.attrs.items())}\")\n",
        "        elif type(v) == h5py.Group:\n",
        "            print(f\"[grp] {v.name}:\")\n",
        "            if attrs and len(v.attrs) > 0:\n",
        "                print(f\"      attrs = {dict(v.attrs.items())}\")\n",
        "\n",
        "    with h5py.File(filename, \"r\") as f:\n",
        "        f.visititems(desc)\n",
        "        \n",
        "describe_hdf5(path)"
      ]
    },
    {
      "cell_type": "code",
      "execution_count": 3,
      "metadata": {},
      "outputs": [
        {
          "data": {
            "text/plain": [
              "(54546, 2, 6, 2)"
            ]
          },
          "execution_count": 3,
          "metadata": {},
          "output_type": "execute_result"
        }
      ],
      "source": [
        "with h5py.File(path) as f:\n",
        "    tracks = f[\"tracks\"][:]\n",
        "\n",
        "tracks = np.transpose(tracks, [3, 0, 2, 1])\n",
        "tracks.shape"
      ]
    },
    {
      "cell_type": "code",
      "execution_count": 6,
      "metadata": {},
      "outputs": [
        {
          "name": "stdout",
          "output_type": "stream",
          "text": [
            "displacement_analysis.h5 doesn't match ext for json or json.zip\n"
          ]
        },
        {
          "ename": "TypeError",
          "evalue": "No file format adaptor could read this file.",
          "output_type": "error",
          "traceback": [
            "\u001b[0;31m---------------------------------------------------------------------------\u001b[0m",
            "\u001b[0;31mTypeError\u001b[0m                                 Traceback (most recent call last)",
            "\u001b[1;32m/home/ricardo/SLEAP_Data/displacement_analysis/displacement_analysis_2.ipynb Cell 4\u001b[0m in \u001b[0;36m<cell line: 1>\u001b[0;34m()\u001b[0m\n\u001b[0;32m----> <a href='vscode-notebook-cell:/home/ricardo/SLEAP_Data/displacement_analysis/displacement_analysis_2.ipynb#X53sZmlsZQ%3D%3D?line=0'>1</a>\u001b[0m labels \u001b[39m=\u001b[39m sleap\u001b[39m.\u001b[39mload_file(path)\n\u001b[1;32m      <a href='vscode-notebook-cell:/home/ricardo/SLEAP_Data/displacement_analysis/displacement_analysis_2.ipynb#X53sZmlsZQ%3D%3D?line=1'>2</a>\u001b[0m labels\n",
            "File \u001b[0;32m~/sleap/sleap/io/dataset.py:2538\u001b[0m, in \u001b[0;36mload_file\u001b[0;34m(filename, detect_videos, search_paths, match_to)\u001b[0m\n\u001b[1;32m   2536\u001b[0m     \u001b[39mif\u001b[39;00m search_paths \u001b[39mis\u001b[39;00m \u001b[39mNone\u001b[39;00m:\n\u001b[1;32m   2537\u001b[0m         search_paths \u001b[39m=\u001b[39m os\u001b[39m.\u001b[39mpath\u001b[39m.\u001b[39mdirname(filename)\n\u001b[0;32m-> 2538\u001b[0m     \u001b[39mreturn\u001b[39;00m Labels\u001b[39m.\u001b[39;49mload_file(filename, search_paths, match_to\u001b[39m=\u001b[39;49mmatch_to)\n\u001b[1;32m   2539\u001b[0m \u001b[39melse\u001b[39;00m:\n\u001b[1;32m   2540\u001b[0m     \u001b[39mreturn\u001b[39;00m Labels\u001b[39m.\u001b[39mload_file(filename, match_to\u001b[39m=\u001b[39mmatch_to)\n",
            "File \u001b[0;32m~/sleap/sleap/io/dataset.py:1940\u001b[0m, in \u001b[0;36mLabels.load_file\u001b[0;34m(cls, filename, video_search, *args, **kwargs)\u001b[0m\n\u001b[1;32m   1937\u001b[0m \u001b[39m\"\"\"Load file, detecting format from filename.\"\"\"\u001b[39;00m\n\u001b[1;32m   1938\u001b[0m \u001b[39mfrom\u001b[39;00m \u001b[39m.\u001b[39;00m\u001b[39mformat\u001b[39;00m \u001b[39mimport\u001b[39;00m read\n\u001b[0;32m-> 1940\u001b[0m \u001b[39mreturn\u001b[39;00m read(\n\u001b[1;32m   1941\u001b[0m     filename, for_object\u001b[39m=\u001b[39;49m\u001b[39m\"\u001b[39;49m\u001b[39mlabels\u001b[39;49m\u001b[39m\"\u001b[39;49m, video_search\u001b[39m=\u001b[39;49mvideo_search, \u001b[39m*\u001b[39;49margs, \u001b[39m*\u001b[39;49m\u001b[39m*\u001b[39;49mkwargs\n\u001b[1;32m   1942\u001b[0m )\n",
            "File \u001b[0;32m~/sleap/sleap/io/format/main.py:109\u001b[0m, in \u001b[0;36mread\u001b[0;34m(filename, for_object, as_format, *args, **kwargs)\u001b[0m\n\u001b[1;32m    105\u001b[0m             \u001b[39m# print(f\"[registering format adaptor for {format_name}]\")\u001b[39;00m\n\u001b[1;32m    106\u001b[0m     \u001b[39melse\u001b[39;00m:\n\u001b[1;32m    107\u001b[0m         disp\u001b[39m.\u001b[39mregister_list(default_labels_adaptors)\n\u001b[0;32m--> 109\u001b[0m     \u001b[39mreturn\u001b[39;00m disp\u001b[39m.\u001b[39;49mread(filename, \u001b[39m*\u001b[39;49margs, \u001b[39m*\u001b[39;49m\u001b[39m*\u001b[39;49mkwargs)\n\u001b[1;32m    111\u001b[0m \u001b[39mraise\u001b[39;00m \u001b[39mNotImplementedError\u001b[39;00m(\u001b[39m\"\u001b[39m\u001b[39mNo adaptors for this object type.\u001b[39m\u001b[39m\"\u001b[39m)\n",
            "File \u001b[0;32m~/sleap/sleap/io/format/dispatch.py:58\u001b[0m, in \u001b[0;36mDispatch.read\u001b[0;34m(self, filename, *args, **kwargs)\u001b[0m\n\u001b[1;32m     55\u001b[0m         \u001b[39mif\u001b[39;00m adaptor\u001b[39m.\u001b[39mcan_read_file(file):\n\u001b[1;32m     56\u001b[0m             \u001b[39mreturn\u001b[39;00m adaptor\u001b[39m.\u001b[39mread(file, \u001b[39m*\u001b[39margs, \u001b[39m*\u001b[39m\u001b[39m*\u001b[39mkwargs)\n\u001b[0;32m---> 58\u001b[0m \u001b[39mraise\u001b[39;00m \u001b[39mTypeError\u001b[39;00m(\u001b[39m\"\u001b[39m\u001b[39mNo file format adaptor could read this file.\u001b[39m\u001b[39m\"\u001b[39m)\n",
            "\u001b[0;31mTypeError\u001b[0m: No file format adaptor could read this file."
          ]
        }
      ],
      "source": [
        "labels = sleap.load_file(path)\n",
        "labels"
      ]
    },
    {
      "cell_type": "code",
      "execution_count": null,
      "metadata": {},
      "outputs": [],
      "source": [
        "tracks = labels.numpy()\n",
        "tracks.shape"
      ]
    },
    {
      "cell_type": "code",
      "execution_count": null,
      "metadata": {},
      "outputs": [],
      "source": [
        "# Labeled frames can be accessed using [] indexing\n",
        "labeled_frame = labels[100]\n",
        "labeled_frame"
      ]
    },
    {
      "cell_type": "code",
      "execution_count": null,
      "metadata": {},
      "outputs": [],
      "source": [
        "# Visualize the labeled frame\n",
        "labeled_frame.plot(scale=0.5)"
      ]
    },
    {
      "cell_type": "code",
      "execution_count": null,
      "metadata": {},
      "outputs": [],
      "source": [
        "# Instances from a labeled frame can be converted to numpy arrays together...\n",
        "labeled_frame.numpy().shape"
      ]
    },
    {
      "cell_type": "code",
      "execution_count": null,
      "metadata": {},
      "outputs": [],
      "source": [
        "# ... or individually:\n",
        "predicted_instance = labeled_frame[0]\n",
        "predicted_instance.numpy()"
      ]
    },
    {
      "cell_type": "code",
      "execution_count": null,
      "metadata": {},
      "outputs": [],
      "source": [
        "# Trajectory across for all frames\n",
        "plt.figure(figsize=(6, 6))\n",
        "for j in range(tracks.shape[2]):\n",
        "    plt.plot(tracks[:, 0, j, 0], tracks[:, 0, j, 1], \"b-\")\n",
        "for j in range(tracks.shape[2]):\n",
        "    plt.plot(tracks[:, 1, j, 0], tracks[:, 1, j, 1], \"r-\")\n",
        "plt.grid(True);"
      ]
    },
    {
      "cell_type": "code",
      "execution_count": null,
      "metadata": {},
      "outputs": [],
      "source": [
        "# Landmark-wise speed over time\n",
        "speeds = np.linalg.norm(np.diff(tracks, axis=0), axis=3)  # (time, tracks, nodes)\n",
        "\n",
        "plt.figure(figsize=(10, 4))\n",
        "for j in range(tracks.shape[2]):\n",
        "    plt.plot(speeds[:, 0, j], \"b-\")\n",
        "for j in range(tracks.shape[2]):\n",
        "    plt.plot(speeds[:, 1, j], \"r-\")\n",
        "plt.xlabel(\"Time (frames)\")\n",
        "plt.ylabel(\"Landmark speed (px/frame)\");"
      ]
    }
  ],
  "metadata": {
    "colab": {
      "collapsed_sections": [],
      "name": "Analysis examples.ipynb",
      "provenance": [],
      "toc_visible": true
    },
    "kernelspec": {
      "display_name": "Python 3.8.12 ('sleap')",
      "language": "python",
      "name": "python3"
    },
    "language_info": {
      "codemirror_mode": {
        "name": "ipython",
        "version": 3
      },
      "file_extension": ".py",
      "mimetype": "text/x-python",
      "name": "python",
      "nbconvert_exporter": "python",
      "pygments_lexer": "ipython3",
      "version": "3.8.12"
    },
    "vscode": {
      "interpreter": {
        "hash": "89b32c871c216344fb10732c00814d306335dba348eb3756d4b4a14b624b03bb"
      }
    }
  },
  "nbformat": 4,
  "nbformat_minor": 0
}
