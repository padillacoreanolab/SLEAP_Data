{
  "cells": [
    {
      "cell_type": "code",
      "execution_count": null,
      "metadata": {},
      "outputs": [],
      "source": [
        "!pip install sleap==1.2.6"
      ]
    },
    {
      "cell_type": "code",
      "execution_count": null,
      "metadata": {},
      "outputs": [],
      "source": [
        "path = \"displacement_analysis/displacement_analysis.h5\"\n",
        "\n",
        "def describe_hdf5(filename, attrs=True):\n",
        "    \"\"\"Utility to describe all items in an HDF5 file.\"\"\"\n",
        "    def desc(k, v):\n",
        "        if type(v) == h5py.Dataset:\n",
        "            print(f\"[ds]  {v.name}: {v.shape} | dtype = {v.dtype}\")\n",
        "            if attrs and len(v.attrs) > 0:\n",
        "                print(f\"      attrs = {dict(v.attrs.items())}\")\n",
        "        elif type(v) == h5py.Group:\n",
        "            print(f\"[grp] {v.name}:\")\n",
        "            if attrs and len(v.attrs) > 0:\n",
        "                print(f\"      attrs = {dict(v.attrs.items())}\")\n",
        "\n",
        "    with h5py.File(filename, \"r\") as f:\n",
        "        f.visititems(desc)\n",
        "        \n",
        "describe_hdf5(path)"
      ]
    },
    {
      "cell_type": "code",
      "execution_count": null,
      "metadata": {},
      "outputs": [],
      "source": [
        "with h5py.File(path) as f:\n",
        "    tracks = f[\"tracks\"][:]\n",
        "\n",
        "tracks = np.transpose(tracks, [3, 0, 2, 1])\n",
        "tracks.shape"
      ]
    },
    {
      "cell_type": "code",
      "execution_count": null,
      "metadata": {},
      "outputs": [],
      "source": [
        "labels = sleap.load_file(path)\n",
        "labels"
      ]
    },
    {
      "cell_type": "code",
      "execution_count": null,
      "metadata": {},
      "outputs": [],
      "source": [
        "tracks = labels.numpy()\n",
        "tracks.shape"
      ]
    },
    {
      "cell_type": "code",
      "execution_count": null,
      "metadata": {},
      "outputs": [],
      "source": [
        "# Labeled frames can be accessed using [] indexing\n",
        "labeled_frame = labels[100]\n",
        "labeled_frame"
      ]
    },
    {
      "cell_type": "code",
      "execution_count": null,
      "metadata": {},
      "outputs": [],
      "source": [
        "# Visualize the labeled frame\n",
        "labeled_frame.plot(scale=0.5)"
      ]
    },
    {
      "cell_type": "code",
      "execution_count": null,
      "metadata": {},
      "outputs": [],
      "source": [
        "# Instances from a labeled frame can be converted to numpy arrays together...\n",
        "labeled_frame.numpy().shape"
      ]
    },
    {
      "cell_type": "code",
      "execution_count": null,
      "metadata": {},
      "outputs": [],
      "source": [
        "# ... or individually:\n",
        "predicted_instance = labeled_frame[0]\n",
        "predicted_instance.numpy()"
      ]
    },
    {
      "cell_type": "code",
      "execution_count": null,
      "metadata": {},
      "outputs": [],
      "source": [
        "# Trajectory across for all frames\n",
        "plt.figure(figsize=(6, 6))\n",
        "for j in range(tracks.shape[2]):\n",
        "    plt.plot(tracks[:, 0, j, 0], tracks[:, 0, j, 1], \"b-\")\n",
        "for j in range(tracks.shape[2]):\n",
        "    plt.plot(tracks[:, 1, j, 0], tracks[:, 1, j, 1], \"r-\")\n",
        "plt.grid(True);"
      ]
    },
    {
      "cell_type": "code",
      "execution_count": null,
      "metadata": {},
      "outputs": [],
      "source": [
        "# Landmark-wise speed over time\n",
        "speeds = np.linalg.norm(np.diff(tracks, axis=0), axis=3)  # (time, tracks, nodes)\n",
        "\n",
        "plt.figure(figsize=(10, 4))\n",
        "for j in range(tracks.shape[2]):\n",
        "    plt.plot(speeds[:, 0, j], \"b-\")\n",
        "for j in range(tracks.shape[2]):\n",
        "    plt.plot(speeds[:, 1, j], \"r-\")\n",
        "plt.xlabel(\"Time (frames)\")\n",
        "plt.ylabel(\"Landmark speed (px/frame)\");"
      ]
    }
  ],
  "metadata": {
    "colab": {
      "collapsed_sections": [],
      "name": "Analysis examples.ipynb",
      "provenance": [],
      "toc_visible": true
    },
    "kernelspec": {
      "display_name": "Python 3.8.10 64-bit",
      "language": "python",
      "name": "python3"
    },
    "language_info": {
      "codemirror_mode": {
        "name": "ipython",
        "version": 3
      },
      "file_extension": ".py",
      "mimetype": "text/x-python",
      "name": "python",
      "nbconvert_exporter": "python",
      "pygments_lexer": "ipython3",
      "version": "3.8.10"
    },
    "vscode": {
      "interpreter": {
        "hash": "916dbcbb3f70747c44a77c7bcd40155683ae19c65e1c03b4aa3499c5328201f1"
      }
    }
  },
  "nbformat": 4,
  "nbformat_minor": 0
}
