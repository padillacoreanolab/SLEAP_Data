{
  "cells": [
    {
      "cell_type": "code",
      "execution_count": 1,
      "metadata": {},
      "outputs": [],
      "source": [
        "#!pip install sleap==1.2.6\n",
        "import h5py"
      ]
    },
    {
      "cell_type": "code",
      "execution_count": 6,
      "metadata": {},
      "outputs": [
        {
          "name": "stdout",
          "output_type": "stream",
          "text": [
            "[ds]  /edge_inds: (6, 2) | dtype = int64\n",
            "[ds]  /edge_names: (6, 2) | dtype = |S9\n",
            "[ds]  /instance_scores: (2, 54546) | dtype = float64\n",
            "[ds]  /node_names: (6,) | dtype = |S9\n",
            "[ds]  /point_scores: (2, 6, 54546) | dtype = float64\n",
            "[ds]  /track_names: (2,) | dtype = |S7\n",
            "[ds]  /track_occupancy: (54546, 2) | dtype = uint8\n",
            "[ds]  /tracking_scores: (2, 54546) | dtype = float64\n",
            "[ds]  /tracks: (2, 2, 6, 54546) | dtype = float64\n"
          ]
        }
      ],
      "source": [
        "path = \"displacement_analysis.h5\"\n",
        "\n",
        "def describe_hdf5(filename, attrs=True):\n",
        "    \"\"\"Utility to describe all items in an HDF5 file.\"\"\"\n",
        "    def desc(k, v):\n",
        "        if type(v) == h5py.Dataset:\n",
        "            print(f\"[ds]  {v.name}: {v.shape} | dtype = {v.dtype}\")\n",
        "            if attrs and len(v.attrs) > 0:\n",
        "                print(f\"      attrs = {dict(v.attrs.items())}\")\n",
        "        elif type(v) == h5py.Group:\n",
        "            print(f\"[grp] {v.name}:\")\n",
        "            if attrs and len(v.attrs) > 0:\n",
        "                print(f\"      attrs = {dict(v.attrs.items())}\")\n",
        "\n",
        "    with h5py.File(filename, \"r\") as f:\n",
        "        f.visititems(desc)\n",
        "        \n",
        "describe_hdf5(path)"
      ]
    },
    {
      "cell_type": "code",
      "execution_count": 7,
      "metadata": {},
      "outputs": [
        {
          "ename": "NameError",
          "evalue": "name 'np' is not defined",
          "output_type": "error",
          "traceback": [
            "\u001b[0;31m---------------------------------------------------------------------------\u001b[0m",
            "\u001b[0;31mNameError\u001b[0m                                 Traceback (most recent call last)",
            "\u001b[1;32m/home/ricardo/SLEAP_Data/displacement_analysis/displacement_analysis_2.ipynb Cell 3\u001b[0m in \u001b[0;36m<cell line: 4>\u001b[0;34m()\u001b[0m\n\u001b[1;32m      <a href='vscode-notebook-cell:/home/ricardo/SLEAP_Data/displacement_analysis/displacement_analysis_2.ipynb#X52sZmlsZQ%3D%3D?line=0'>1</a>\u001b[0m \u001b[39mwith\u001b[39;00m h5py\u001b[39m.\u001b[39mFile(path) \u001b[39mas\u001b[39;00m f:\n\u001b[1;32m      <a href='vscode-notebook-cell:/home/ricardo/SLEAP_Data/displacement_analysis/displacement_analysis_2.ipynb#X52sZmlsZQ%3D%3D?line=1'>2</a>\u001b[0m     tracks \u001b[39m=\u001b[39m f[\u001b[39m\"\u001b[39m\u001b[39mtracks\u001b[39m\u001b[39m\"\u001b[39m][:]\n\u001b[0;32m----> <a href='vscode-notebook-cell:/home/ricardo/SLEAP_Data/displacement_analysis/displacement_analysis_2.ipynb#X52sZmlsZQ%3D%3D?line=3'>4</a>\u001b[0m tracks \u001b[39m=\u001b[39m np\u001b[39m.\u001b[39mtranspose(tracks, [\u001b[39m3\u001b[39m, \u001b[39m0\u001b[39m, \u001b[39m2\u001b[39m, \u001b[39m1\u001b[39m])\n\u001b[1;32m      <a href='vscode-notebook-cell:/home/ricardo/SLEAP_Data/displacement_analysis/displacement_analysis_2.ipynb#X52sZmlsZQ%3D%3D?line=4'>5</a>\u001b[0m tracks\u001b[39m.\u001b[39mshape\n",
            "\u001b[0;31mNameError\u001b[0m: name 'np' is not defined"
          ]
        }
      ],
      "source": [
        "with h5py.File(path) as f:\n",
        "    tracks = f[\"tracks\"][:]\n",
        "\n",
        "tracks = np.transpose(tracks, [3, 0, 2, 1])\n",
        "tracks.shape"
      ]
    },
    {
      "cell_type": "code",
      "execution_count": null,
      "metadata": {},
      "outputs": [],
      "source": [
        "labels = sleap.load_file(path)\n",
        "labels"
      ]
    },
    {
      "cell_type": "code",
      "execution_count": null,
      "metadata": {},
      "outputs": [],
      "source": [
        "tracks = labels.numpy()\n",
        "tracks.shape"
      ]
    },
    {
      "cell_type": "code",
      "execution_count": null,
      "metadata": {},
      "outputs": [],
      "source": [
        "# Labeled frames can be accessed using [] indexing\n",
        "labeled_frame = labels[100]\n",
        "labeled_frame"
      ]
    },
    {
      "cell_type": "code",
      "execution_count": null,
      "metadata": {},
      "outputs": [],
      "source": [
        "# Visualize the labeled frame\n",
        "labeled_frame.plot(scale=0.5)"
      ]
    },
    {
      "cell_type": "code",
      "execution_count": null,
      "metadata": {},
      "outputs": [],
      "source": [
        "# Instances from a labeled frame can be converted to numpy arrays together...\n",
        "labeled_frame.numpy().shape"
      ]
    },
    {
      "cell_type": "code",
      "execution_count": null,
      "metadata": {},
      "outputs": [],
      "source": [
        "# ... or individually:\n",
        "predicted_instance = labeled_frame[0]\n",
        "predicted_instance.numpy()"
      ]
    },
    {
      "cell_type": "code",
      "execution_count": null,
      "metadata": {},
      "outputs": [],
      "source": [
        "# Trajectory across for all frames\n",
        "plt.figure(figsize=(6, 6))\n",
        "for j in range(tracks.shape[2]):\n",
        "    plt.plot(tracks[:, 0, j, 0], tracks[:, 0, j, 1], \"b-\")\n",
        "for j in range(tracks.shape[2]):\n",
        "    plt.plot(tracks[:, 1, j, 0], tracks[:, 1, j, 1], \"r-\")\n",
        "plt.grid(True);"
      ]
    },
    {
      "cell_type": "code",
      "execution_count": null,
      "metadata": {},
      "outputs": [],
      "source": [
        "# Landmark-wise speed over time\n",
        "speeds = np.linalg.norm(np.diff(tracks, axis=0), axis=3)  # (time, tracks, nodes)\n",
        "\n",
        "plt.figure(figsize=(10, 4))\n",
        "for j in range(tracks.shape[2]):\n",
        "    plt.plot(speeds[:, 0, j], \"b-\")\n",
        "for j in range(tracks.shape[2]):\n",
        "    plt.plot(speeds[:, 1, j], \"r-\")\n",
        "plt.xlabel(\"Time (frames)\")\n",
        "plt.ylabel(\"Landmark speed (px/frame)\");"
      ]
    }
  ],
  "metadata": {
    "colab": {
      "collapsed_sections": [],
      "name": "Analysis examples.ipynb",
      "provenance": [],
      "toc_visible": true
    },
    "kernelspec": {
      "display_name": "Python 3.9.7 ('base')",
      "language": "python",
      "name": "python3"
    },
    "language_info": {
      "codemirror_mode": {
        "name": "ipython",
        "version": 3
      },
      "file_extension": ".py",
      "mimetype": "text/x-python",
      "name": "python",
      "nbconvert_exporter": "python",
      "pygments_lexer": "ipython3",
      "version": "3.9.7"
    },
    "vscode": {
      "interpreter": {
        "hash": "abecc9efee1d216150679339f7cb39e17f2b3783b014e8db6aa18b4f299df678"
      }
    }
  },
  "nbformat": 4,
  "nbformat_minor": 0
}
